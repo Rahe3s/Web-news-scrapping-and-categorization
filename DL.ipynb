{
 "cells": [
  {
   "cell_type": "code",
   "execution_count": 1,
   "id": "aab98ebf",
   "metadata": {},
   "outputs": [],
   "source": [
    "import numpy as np\n",
    "import pandas as pd\n",
    "import re\n",
    "from tensorflow import keras\n",
    "from nltk.stem.porter import PorterStemmer\n",
    "from nltk.corpus import stopwords"
   ]
  },
  {
   "cell_type": "code",
   "execution_count": 2,
   "id": "029a6a9e",
   "metadata": {},
   "outputs": [],
   "source": [
    "#loading data\n",
    "data = pd.read_csv('uci-news-aggregator.csv',sep = \",\",skipinitialspace=True)\n",
    "#data = ds.sample(n=25000,random_state =42)"
   ]
  },
  {
   "cell_type": "code",
   "execution_count": 3,
   "id": "723493b8",
   "metadata": {},
   "outputs": [
    {
     "data": {
      "text/plain": [
       "(422419, 8)"
      ]
     },
     "execution_count": 3,
     "metadata": {},
     "output_type": "execute_result"
    }
   ],
   "source": [
    "data.shape"
   ]
  },
  {
   "cell_type": "code",
   "execution_count": 4,
   "id": "73be192a",
   "metadata": {},
   "outputs": [
    {
     "data": {
      "text/html": [
       "<div>\n",
       "<style scoped>\n",
       "    .dataframe tbody tr th:only-of-type {\n",
       "        vertical-align: middle;\n",
       "    }\n",
       "\n",
       "    .dataframe tbody tr th {\n",
       "        vertical-align: top;\n",
       "    }\n",
       "\n",
       "    .dataframe thead th {\n",
       "        text-align: right;\n",
       "    }\n",
       "</style>\n",
       "<table border=\"1\" class=\"dataframe\">\n",
       "  <thead>\n",
       "    <tr style=\"text-align: right;\">\n",
       "      <th></th>\n",
       "      <th>ID</th>\n",
       "      <th>TITLE</th>\n",
       "      <th>URL</th>\n",
       "      <th>PUBLISHER</th>\n",
       "      <th>CATEGORY</th>\n",
       "      <th>STORY</th>\n",
       "      <th>HOSTNAME</th>\n",
       "      <th>TIMESTAMP</th>\n",
       "    </tr>\n",
       "  </thead>\n",
       "  <tbody>\n",
       "    <tr>\n",
       "      <th>0</th>\n",
       "      <td>274913</td>\n",
       "      <td>Blake Shelton and Miranda Lambert 2014 Divorce...</td>\n",
       "      <td>http://www.classicalite.com/articles/8800/2014...</td>\n",
       "      <td>Classicalite</td>\n",
       "      <td>e</td>\n",
       "      <td>dQJ-vU31UozgxIMLRYZzBbB1k701M</td>\n",
       "      <td>www.classicalite.com</td>\n",
       "      <td>1401901089437</td>\n",
       "    </tr>\n",
       "    <tr>\n",
       "      <th>1</th>\n",
       "      <td>28021</td>\n",
       "      <td>Exact Sciences (EXAS) DEEP-C Data Supportive o...</td>\n",
       "      <td>http://www.streetinsider.com/Analyst+Comments/...</td>\n",
       "      <td>StreetInsider.com \\(subscription\\)</td>\n",
       "      <td>m</td>\n",
       "      <td>ddlARaciFtrUZiMK3lVkDuB-Ya8bM</td>\n",
       "      <td>www.streetinsider.com</td>\n",
       "      <td>1395335106628</td>\n",
       "    </tr>\n",
       "    <tr>\n",
       "      <th>2</th>\n",
       "      <td>417777</td>\n",
       "      <td>Stocks drift higher; S&amp;P 500 holds at 2000 points</td>\n",
       "      <td>http://www.nwitimes.com/business/stocks-drift-...</td>\n",
       "      <td>nwitimes.com</td>\n",
       "      <td>b</td>\n",
       "      <td>djLhpi133eOrArMoyqZKsUDBkT5xM</td>\n",
       "      <td>www.nwitimes.com</td>\n",
       "      <td>1409161179283</td>\n",
       "    </tr>\n",
       "    <tr>\n",
       "      <th>3</th>\n",
       "      <td>359489</td>\n",
       "      <td>Holiday barbecues impacted by Foster Farms chi...</td>\n",
       "      <td>http://abc30.com/food/holiday-barbecues-impact...</td>\n",
       "      <td>KFSN-TV</td>\n",
       "      <td>m</td>\n",
       "      <td>d-4l9hcWA3SaeKMFCbiLIbZkKLg8M</td>\n",
       "      <td>abc30.com</td>\n",
       "      <td>1404539339185</td>\n",
       "    </tr>\n",
       "    <tr>\n",
       "      <th>4</th>\n",
       "      <td>334446</td>\n",
       "      <td>Eurozone inflation rate remained flat at low 0...</td>\n",
       "      <td>http://www.greenfieldreporter.com/view/story/d...</td>\n",
       "      <td>Greenfield Daily Reporter</td>\n",
       "      <td>b</td>\n",
       "      <td>dOMwO37KzobwlnMzh-naKdrirlEJM</td>\n",
       "      <td>www.greenfieldreporter.com</td>\n",
       "      <td>1404147679433</td>\n",
       "    </tr>\n",
       "  </tbody>\n",
       "</table>\n",
       "</div>"
      ],
      "text/plain": [
       "       ID                                              TITLE   \n",
       "0  274913  Blake Shelton and Miranda Lambert 2014 Divorce...  \\\n",
       "1   28021  Exact Sciences (EXAS) DEEP-C Data Supportive o...   \n",
       "2  417777  Stocks drift higher; S&P 500 holds at 2000 points   \n",
       "3  359489  Holiday barbecues impacted by Foster Farms chi...   \n",
       "4  334446  Eurozone inflation rate remained flat at low 0...   \n",
       "\n",
       "                                                 URL   \n",
       "0  http://www.classicalite.com/articles/8800/2014...  \\\n",
       "1  http://www.streetinsider.com/Analyst+Comments/...   \n",
       "2  http://www.nwitimes.com/business/stocks-drift-...   \n",
       "3  http://abc30.com/food/holiday-barbecues-impact...   \n",
       "4  http://www.greenfieldreporter.com/view/story/d...   \n",
       "\n",
       "                            PUBLISHER CATEGORY                          STORY   \n",
       "0                        Classicalite        e  dQJ-vU31UozgxIMLRYZzBbB1k701M  \\\n",
       "1  StreetInsider.com \\(subscription\\)        m  ddlARaciFtrUZiMK3lVkDuB-Ya8bM   \n",
       "2                        nwitimes.com        b  djLhpi133eOrArMoyqZKsUDBkT5xM   \n",
       "3                             KFSN-TV        m  d-4l9hcWA3SaeKMFCbiLIbZkKLg8M   \n",
       "4           Greenfield Daily Reporter        b  dOMwO37KzobwlnMzh-naKdrirlEJM   \n",
       "\n",
       "                     HOSTNAME      TIMESTAMP  \n",
       "0        www.classicalite.com  1401901089437  \n",
       "1       www.streetinsider.com  1395335106628  \n",
       "2            www.nwitimes.com  1409161179283  \n",
       "3                   abc30.com  1404539339185  \n",
       "4  www.greenfieldreporter.com  1404147679433  "
      ]
     },
     "execution_count": 4,
     "metadata": {},
     "output_type": "execute_result"
    }
   ],
   "source": [
    "ds = data.sample(frac=1).reset_index(drop=True)\n",
    "ds.head()"
   ]
  },
  {
   "cell_type": "code",
   "execution_count": 5,
   "id": "db53d6ae",
   "metadata": {},
   "outputs": [
    {
     "data": {
      "text/plain": [
       "<Axes: xlabel='CATEGORY', ylabel='count'>"
      ]
     },
     "execution_count": 5,
     "metadata": {},
     "output_type": "execute_result"
    },
    {
     "data": {
      "image/png": "[encoded data removed]",
      "text/plain": [
       "<Figure size 640x480 with 1 Axes>"
      ]
     },
     "metadata": {},
     "output_type": "display_data"
    }
   ],
   "source": [
    "import seaborn as sns\n",
    "sns.countplot(x = 'CATEGORY',data = ds)"
   ]
  },
  {
   "cell_type": "code",
   "execution_count": 6,
   "id": "209927d7",
   "metadata": {},
   "outputs": [],
   "source": [
    "#Removing unwanted features \n",
    "data1 = data[['TITLE','CATEGORY']]"
   ]
  },
  {
   "cell_type": "code",
   "execution_count": 7,
   "id": "3106083c",
   "metadata": {
    "scrolled": true
   },
   "outputs": [
    {
     "data": {
      "text/html": [
       "<div>\n",
       "<style scoped>\n",
       "    .dataframe tbody tr th:only-of-type {\n",
       "        vertical-align: middle;\n",
       "    }\n",
       "\n",
       "    .dataframe tbody tr th {\n",
       "        vertical-align: top;\n",
       "    }\n",
       "\n",
       "    .dataframe thead th {\n",
       "        text-align: right;\n",
       "    }\n",
       "</style>\n",
       "<table border=\"1\" class=\"dataframe\">\n",
       "  <thead>\n",
       "    <tr style=\"text-align: right;\">\n",
       "      <th></th>\n",
       "      <th>TITLE</th>\n",
       "      <th>CATEGORY</th>\n",
       "    </tr>\n",
       "  </thead>\n",
       "  <tbody>\n",
       "    <tr>\n",
       "      <th>0</th>\n",
       "      <td>Fed official says weak data caused by weather,...</td>\n",
       "      <td>b</td>\n",
       "    </tr>\n",
       "    <tr>\n",
       "      <th>1</th>\n",
       "      <td>Fed's Charles Plosser sees high bar for change...</td>\n",
       "      <td>b</td>\n",
       "    </tr>\n",
       "    <tr>\n",
       "      <th>2</th>\n",
       "      <td>US open: Stocks fall after Fed official hints ...</td>\n",
       "      <td>b</td>\n",
       "    </tr>\n",
       "    <tr>\n",
       "      <th>3</th>\n",
       "      <td>Fed risks falling 'behind the curve', Charles ...</td>\n",
       "      <td>b</td>\n",
       "    </tr>\n",
       "    <tr>\n",
       "      <th>4</th>\n",
       "      <td>Fed's Plosser: Nasty Weather Has Curbed Job Gr...</td>\n",
       "      <td>b</td>\n",
       "    </tr>\n",
       "  </tbody>\n",
       "</table>\n",
       "</div>"
      ],
      "text/plain": [
       "                                               TITLE CATEGORY\n",
       "0  Fed official says weak data caused by weather,...        b\n",
       "1  Fed's Charles Plosser sees high bar for change...        b\n",
       "2  US open: Stocks fall after Fed official hints ...        b\n",
       "3  Fed risks falling 'behind the curve', Charles ...        b\n",
       "4  Fed's Plosser: Nasty Weather Has Curbed Job Gr...        b"
      ]
     },
     "execution_count": 7,
     "metadata": {},
     "output_type": "execute_result"
    }
   ],
   "source": [
    "data1.head()"
   ]
  },
  {
   "cell_type": "code",
   "execution_count": 8,
   "id": "889dbe69",
   "metadata": {},
   "outputs": [],
   "source": [
    "#data preprocessing\n",
    "cleaned = []\n",
    "\n",
    "for i in range(0,len(data1)):\n",
    "    \n",
    "#removing noise and tokenizing\n",
    "\n",
    "    txt = re.sub('[^a-zA-Z]',' ',data1['TITLE'].iloc[i])\n",
    "    txt = re.sub(r\"[^\\w\\s]\",'',txt.lower())\n",
    "    txt = txt.split()\n",
    "    \n",
    "#stemming\n",
    "\n",
    "    ps = PorterStemmer()\n",
    "    txt = [ps.stem(words) for words in txt if not words in set(stopwords.words('english'))]\n",
    "    txt = [words for words in txt if len(words)>2 and len(words)<20]\n",
    "    txt = ' '.join(txt)\n",
    "    \n",
    "    \n",
    "    cleaned.append(txt)\n",
    "    "
   ]
  },
  {
   "cell_type": "code",
   "execution_count": 9,
   "id": "5d46ec2b",
   "metadata": {
    "scrolled": true
   },
   "outputs": [
    {
     "data": {
      "text/plain": [
       "['fed offici say weak data caus weather slow taper',\n",
       " 'fed charl plosser see high bar chang pace taper',\n",
       " 'open stock fall fed offici hint acceler taper',\n",
       " 'fed risk fall behind curv charl plosser say',\n",
       " 'fed plosser nasti weather curb job growth']"
      ]
     },
     "execution_count": 9,
     "metadata": {},
     "output_type": "execute_result"
    }
   ],
   "source": [
    "cleaned[:5]"
   ]
  },
  {
   "cell_type": "code",
   "execution_count": 10,
   "id": "8aefdf03",
   "metadata": {},
   "outputs": [
    {
     "name": "stderr",
     "output_type": "stream",
     "text": [
      "C:\\Users\\rahee\\AppData\\Local\\Temp\\ipykernel_2644\\2663930703.py:1: SettingWithCopyWarning: \n",
      "A value is trying to be set on a copy of a slice from a DataFrame.\n",
      "Try using .loc[row_indexer,col_indexer] = value instead\n",
      "\n",
      "See the caveats in the documentation: https://pandas.pydata.org/pandas-docs/stable/user_guide/indexing.html#returning-a-view-versus-a-copy\n",
      "  data1['cleaned']=cleaned\n"
     ]
    }
   ],
   "source": [
    "data1['cleaned']=cleaned"
   ]
  },
  {
   "cell_type": "code",
   "execution_count": 11,
   "id": "bcf0aa31",
   "metadata": {},
   "outputs": [
    {
     "data": {
      "text/html": [
       "<div>\n",
       "<style scoped>\n",
       "    .dataframe tbody tr th:only-of-type {\n",
       "        vertical-align: middle;\n",
       "    }\n",
       "\n",
       "    .dataframe tbody tr th {\n",
       "        vertical-align: top;\n",
       "    }\n",
       "\n",
       "    .dataframe thead th {\n",
       "        text-align: right;\n",
       "    }\n",
       "</style>\n",
       "<table border=\"1\" class=\"dataframe\">\n",
       "  <thead>\n",
       "    <tr style=\"text-align: right;\">\n",
       "      <th></th>\n",
       "      <th>TITLE</th>\n",
       "      <th>CATEGORY</th>\n",
       "      <th>cleaned</th>\n",
       "    </tr>\n",
       "  </thead>\n",
       "  <tbody>\n",
       "    <tr>\n",
       "      <th>0</th>\n",
       "      <td>Fed official says weak data caused by weather,...</td>\n",
       "      <td>b</td>\n",
       "      <td>fed offici say weak data caus weather slow taper</td>\n",
       "    </tr>\n",
       "    <tr>\n",
       "      <th>1</th>\n",
       "      <td>Fed's Charles Plosser sees high bar for change...</td>\n",
       "      <td>b</td>\n",
       "      <td>fed charl plosser see high bar chang pace taper</td>\n",
       "    </tr>\n",
       "    <tr>\n",
       "      <th>2</th>\n",
       "      <td>US open: Stocks fall after Fed official hints ...</td>\n",
       "      <td>b</td>\n",
       "      <td>open stock fall fed offici hint acceler taper</td>\n",
       "    </tr>\n",
       "    <tr>\n",
       "      <th>3</th>\n",
       "      <td>Fed risks falling 'behind the curve', Charles ...</td>\n",
       "      <td>b</td>\n",
       "      <td>fed risk fall behind curv charl plosser say</td>\n",
       "    </tr>\n",
       "    <tr>\n",
       "      <th>4</th>\n",
       "      <td>Fed's Plosser: Nasty Weather Has Curbed Job Gr...</td>\n",
       "      <td>b</td>\n",
       "      <td>fed plosser nasti weather curb job growth</td>\n",
       "    </tr>\n",
       "    <tr>\n",
       "      <th>...</th>\n",
       "      <td>...</td>\n",
       "      <td>...</td>\n",
       "      <td>...</td>\n",
       "    </tr>\n",
       "    <tr>\n",
       "      <th>422414</th>\n",
       "      <td>Surgeons to remove 4-year-old's rib to rebuild...</td>\n",
       "      <td>m</td>\n",
       "      <td>surgeon remov year old rib rebuild damag throat</td>\n",
       "    </tr>\n",
       "    <tr>\n",
       "      <th>422415</th>\n",
       "      <td>Boy to have surgery on esophagus after battery...</td>\n",
       "      <td>m</td>\n",
       "      <td>boy surgeri esophagu batteri burn hole throat</td>\n",
       "    </tr>\n",
       "    <tr>\n",
       "      <th>422416</th>\n",
       "      <td>Child who swallowed battery to have reconstruc...</td>\n",
       "      <td>m</td>\n",
       "      <td>child swallow batteri reconstruct surgeri cinc...</td>\n",
       "    </tr>\n",
       "    <tr>\n",
       "      <th>422417</th>\n",
       "      <td>Phoenix boy undergoes surgery to repair throat...</td>\n",
       "      <td>m</td>\n",
       "      <td>phoenix boy undergo surgeri repair throat dama...</td>\n",
       "    </tr>\n",
       "    <tr>\n",
       "      <th>422418</th>\n",
       "      <td>Phoenix boy undergoes surgery to repair throat...</td>\n",
       "      <td>m</td>\n",
       "      <td>phoenix boy undergo surgeri repair throat dama...</td>\n",
       "    </tr>\n",
       "  </tbody>\n",
       "</table>\n",
       "<p>422419 rows × 3 columns</p>\n",
       "</div>"
      ],
      "text/plain": [
       "                                                    TITLE CATEGORY   \n",
       "0       Fed official says weak data caused by weather,...        b  \\\n",
       "1       Fed's Charles Plosser sees high bar for change...        b   \n",
       "2       US open: Stocks fall after Fed official hints ...        b   \n",
       "3       Fed risks falling 'behind the curve', Charles ...        b   \n",
       "4       Fed's Plosser: Nasty Weather Has Curbed Job Gr...        b   \n",
       "...                                                   ...      ...   \n",
       "422414  Surgeons to remove 4-year-old's rib to rebuild...        m   \n",
       "422415  Boy to have surgery on esophagus after battery...        m   \n",
       "422416  Child who swallowed battery to have reconstruc...        m   \n",
       "422417  Phoenix boy undergoes surgery to repair throat...        m   \n",
       "422418  Phoenix boy undergoes surgery to repair throat...        m   \n",
       "\n",
       "                                                  cleaned  \n",
       "0        fed offici say weak data caus weather slow taper  \n",
       "1         fed charl plosser see high bar chang pace taper  \n",
       "2           open stock fall fed offici hint acceler taper  \n",
       "3             fed risk fall behind curv charl plosser say  \n",
       "4               fed plosser nasti weather curb job growth  \n",
       "...                                                   ...  \n",
       "422414    surgeon remov year old rib rebuild damag throat  \n",
       "422415      boy surgeri esophagu batteri burn hole throat  \n",
       "422416  child swallow batteri reconstruct surgeri cinc...  \n",
       "422417  phoenix boy undergo surgeri repair throat dama...  \n",
       "422418  phoenix boy undergo surgeri repair throat dama...  \n",
       "\n",
       "[422419 rows x 3 columns]"
      ]
     },
     "execution_count": 11,
     "metadata": {},
     "output_type": "execute_result"
    }
   ],
   "source": [
    "data1"
   ]
  },
  {
   "cell_type": "code",
   "execution_count": 12,
   "id": "c5640c70",
   "metadata": {},
   "outputs": [
    {
     "data": {
      "text/plain": [
       "TITLE       0\n",
       "CATEGORY    0\n",
       "cleaned     0\n",
       "dtype: int64"
      ]
     },
     "execution_count": 12,
     "metadata": {},
     "output_type": "execute_result"
    }
   ],
   "source": [
    "data1.isnull().sum()"
   ]
  },
  {
   "cell_type": "code",
   "execution_count": 21,
   "id": "f06e4e6e",
   "metadata": {},
   "outputs": [],
   "source": [
    "#data1.to_csv('cleaned.csv')"
   ]
  },
  {
   "cell_type": "code",
   "execution_count": 13,
   "id": "ce567fcc",
   "metadata": {},
   "outputs": [
    {
     "data": {
      "text/plain": [
       "array([[   0,    0,    0, ..., 4910, 1824,  293],\n",
       "       [   0,    0,    0, ...,  555,  198,  293],\n",
       "       [   0,    0,    0, ...,   68, 2828,  293],\n",
       "       ...,\n",
       "       [   0,    0,    0, ..., 4766,  507, 3475],\n",
       "       [   0,    0,    0, ..., 4484, 4140, 1076],\n",
       "       [   0,    0,    0, ...,  178, 4484, 1102]])"
      ]
     },
     "execution_count": 13,
     "metadata": {},
     "output_type": "execute_result"
    }
   ],
   "source": [
    "#one-hot encoding\n",
    "from tensorflow.keras.preprocessing.text import one_hot\n",
    "from tensorflow.keras.preprocessing.sequence import pad_sequences\n",
    "dict_size = 5000\n",
    "one_hot_mat = [one_hot(words,dict_size) for words in cleaned]\n",
    "embedded_layer = pad_sequences(one_hot_mat,padding = 'pre',maxlen = 150)\n",
    "embedded_layer"
   ]
  },
  {
   "cell_type": "code",
   "execution_count": 14,
   "id": "c54a5451",
   "metadata": {},
   "outputs": [],
   "source": [
    "x = embedded_layer\n",
    "y = np.array(data1['CATEGORY'])"
   ]
  },
  {
   "cell_type": "code",
   "execution_count": 15,
   "id": "9501279f",
   "metadata": {},
   "outputs": [],
   "source": [
    "#one-hot encoding\n",
    "from sklearn.preprocessing import LabelEncoder\n",
    "from keras.utils.np_utils import to_categorical\n",
    "le = LabelEncoder()\n",
    "y = le.fit_transform(y)\n",
    "y = to_categorical(y,4)"
   ]
  },
  {
   "cell_type": "code",
   "execution_count": 16,
   "id": "6d1e647d",
   "metadata": {},
   "outputs": [
    {
     "name": "stdout",
     "output_type": "stream",
     "text": [
      "Original Categorical Values -> Numerical Values:\n",
      "b -> 0\n",
      "e -> 1\n",
      "m -> 2\n",
      "t -> 3\n"
     ]
    }
   ],
   "source": [
    "category_mapping = dict(zip(le.classes_, le.transform(le.classes_)))\n",
    "\n",
    "print(\"Original Categorical Values -> Numerical Values:\")\n",
    "for category, encoded_value in category_mapping.items():\n",
    "    print(f\"{category} -> {encoded_value}\")"
   ]
  },
  {
   "cell_type": "code",
   "execution_count": 17,
   "id": "8f0143ca",
   "metadata": {},
   "outputs": [
    {
     "name": "stdout",
     "output_type": "stream",
     "text": [
      "(337935, 150) (337935, 4)\n",
      "(84484, 150) (84484, 4)\n"
     ]
    }
   ],
   "source": [
    "#splitting train test data\n",
    "from sklearn.model_selection import train_test_split\n",
    "x_train,x_test,y_train,y_test=train_test_split(x,y,test_size=0.2,random_state=42)\n",
    "print(x_train.shape,y_train.shape)\n",
    "print(x_test.shape,y_test.shape)"
   ]
  },
  {
   "cell_type": "code",
   "execution_count": 20,
   "id": "574844bc",
   "metadata": {},
   "outputs": [
    {
     "name": "stdout",
     "output_type": "stream",
     "text": [
      "Model: \"sequential_1\"\n",
      "_________________________________________________________________\n",
      " Layer (type)                Output Shape              Param #   \n",
      "=================================================================\n",
      " embedding_1 (Embedding)     (None, 150, 50)           250000    \n",
      "                                                                 \n",
      " dropout_1 (Dropout)         (None, 150, 50)           0         \n",
      "                                                                 \n",
      " lstm_2 (LSTM)               (None, 100)               60400     \n",
      "                                                                 \n",
      " dense_1 (Dense)             (None, 4)                 404       \n",
      "                                                                 \n",
      "=================================================================\n",
      "Total params: 310,804\n",
      "Trainable params: 310,804\n",
      "Non-trainable params: 0\n",
      "_________________________________________________________________\n"
     ]
    }
   ],
   "source": [
    "#model creation\n",
    "\n",
    "from tensorflow.keras.layers import Embedding,LSTM,Dense,Dropout\n",
    "from tensorflow.keras.models import Sequential\n",
    "model = Sequential()\n",
    "model.add(Embedding(dict_size,50,input_length = len(x[0])))\n",
    "model.add(Dropout(0.2))\n",
    "model.add(LSTM(100,))\n",
    "model.add(Dense(4,activation=\"softmax\"))\n",
    "model.compile(loss=\"categorical_crossentropy\",optimizer='adam',metrics=[\"accuracy\"])\n",
    "model.summary()\n"
   ]
  },
  {
   "cell_type": "code",
   "execution_count": 22,
   "id": "740862ef",
   "metadata": {},
   "outputs": [
    {
     "name": "stdout",
     "output_type": "stream",
     "text": [
      "Epoch 1/20\n",
      "1321/1321 [==============================] - 1340s 1s/step - loss: 0.1854 - accuracy: 0.9330 - val_loss: 0.2563 - val_accuracy: 0.9118\n",
      "Epoch 2/20\n",
      "1321/1321 [==============================] - 1349s 1s/step - loss: 0.1778 - accuracy: 0.9359 - val_loss: 0.2587 - val_accuracy: 0.9130\n",
      "Epoch 3/20\n",
      "1321/1321 [==============================] - 1392s 1s/step - loss: 0.1703 - accuracy: 0.9385 - val_loss: 0.2576 - val_accuracy: 0.9144\n",
      "Epoch 4/20\n",
      "1321/1321 [==============================] - 1369s 1s/step - loss: 0.1640 - accuracy: 0.9407 - val_loss: 0.2612 - val_accuracy: 0.9140\n",
      "Epoch 5/20\n",
      "1321/1321 [==============================] - 1430s 1s/step - loss: 0.1575 - accuracy: 0.9428 - val_loss: 0.2608 - val_accuracy: 0.9149\n",
      "Epoch 6/20\n",
      "1321/1321 [==============================] - 1444s 1s/step - loss: 0.1517 - accuracy: 0.9445 - val_loss: 0.2622 - val_accuracy: 0.9156\n",
      "Epoch 7/20\n",
      "1321/1321 [==============================] - 1410s 1s/step - loss: 0.1457 - accuracy: 0.9471 - val_loss: 0.2629 - val_accuracy: 0.9166\n",
      "Epoch 8/20\n",
      "1321/1321 [==============================] - 1080s 818ms/step - loss: 0.1409 - accuracy: 0.9485 - val_loss: 0.2659 - val_accuracy: 0.9163\n",
      "Epoch 9/20\n",
      "1321/1321 [==============================] - 814s 616ms/step - loss: 0.1360 - accuracy: 0.9501 - val_loss: 0.2682 - val_accuracy: 0.9176\n",
      "Epoch 10/20\n",
      "1321/1321 [==============================] - 657s 497ms/step - loss: 0.1322 - accuracy: 0.9512 - val_loss: 0.2725 - val_accuracy: 0.9172\n",
      "Epoch 11/20\n",
      "1321/1321 [==============================] - 859s 650ms/step - loss: 0.1283 - accuracy: 0.9527 - val_loss: 0.2730 - val_accuracy: 0.9169\n",
      "Epoch 12/20\n",
      "1321/1321 [==============================] - 827s 626ms/step - loss: 0.1238 - accuracy: 0.9549 - val_loss: 0.2765 - val_accuracy: 0.9180\n",
      "Epoch 13/20\n",
      "1321/1321 [==============================] - 882s 668ms/step - loss: 0.1207 - accuracy: 0.9555 - val_loss: 0.2812 - val_accuracy: 0.9179\n",
      "Epoch 14/20\n",
      "1321/1321 [==============================] - 971s 735ms/step - loss: 0.1169 - accuracy: 0.9569 - val_loss: 0.2843 - val_accuracy: 0.9181\n",
      "Epoch 15/20\n",
      "1321/1321 [==============================] - 970s 735ms/step - loss: 0.1145 - accuracy: 0.9578 - val_loss: 0.2868 - val_accuracy: 0.9183\n",
      "Epoch 16/20\n",
      "1321/1321 [==============================] - 949s 718ms/step - loss: 0.1116 - accuracy: 0.9587 - val_loss: 0.2887 - val_accuracy: 0.9175\n",
      "Epoch 17/20\n",
      "1321/1321 [==============================] - 747s 565ms/step - loss: 0.1083 - accuracy: 0.9597 - val_loss: 0.2932 - val_accuracy: 0.9175\n",
      "Epoch 18/20\n",
      "1321/1321 [==============================] - 787s 596ms/step - loss: 0.1060 - accuracy: 0.9605 - val_loss: 0.2969 - val_accuracy: 0.9181\n",
      "Epoch 19/20\n",
      "1321/1321 [==============================] - 779s 589ms/step - loss: 0.1039 - accuracy: 0.9614 - val_loss: 0.2987 - val_accuracy: 0.9175\n",
      "Epoch 20/20\n",
      "1321/1321 [==============================] - 743s 563ms/step - loss: 0.1007 - accuracy: 0.9624 - val_loss: 0.3027 - val_accuracy: 0.9180\n"
     ]
    }
   ],
   "source": [
    "#training\n",
    "rnn = model.fit(x_train, y_train, validation_data = (x_test,y_test), epochs = 20, batch_size = 256)"
   ]
  },
  {
   "cell_type": "code",
   "execution_count": 62,
   "id": "3d14139a",
   "metadata": {},
   "outputs": [],
   "source": [
    "model.save('lstm.keras')"
   ]
  },
  {
   "cell_type": "code",
   "execution_count": 49,
   "id": "7f8ebca2",
   "metadata": {},
   "outputs": [
    {
     "data": {
      "text/plain": [
       "['lstm.sav']"
      ]
     },
     "execution_count": 49,
     "metadata": {},
     "output_type": "execute_result"
    }
   ],
   "source": [
    "joblib.dump(rnn, 'lstm.sav')"
   ]
  },
  {
   "cell_type": "code",
   "execution_count": 30,
   "id": "3735c5a9",
   "metadata": {},
   "outputs": [
    {
     "name": "stdout",
     "output_type": "stream",
     "text": [
      "157/157 [==============================] - 7s 47ms/step - loss: 0.6666 - accuracy: 0.8334\n"
     ]
    },
    {
     "data": {
      "text/plain": [
       "[0.6666099429130554, 0.8334000110626221]"
      ]
     },
     "execution_count": 30,
     "metadata": {},
     "output_type": "execute_result"
    }
   ],
   "source": [
    "#testing\n",
    "model.evaluate(x_test,y_test)"
   ]
  },
  {
   "cell_type": "code",
   "execution_count": 23,
   "id": "a24670e6",
   "metadata": {},
   "outputs": [
    {
     "name": "stdout",
     "output_type": "stream",
     "text": [
      "2641/2641 [==============================] - 62s 23ms/step\n"
     ]
    }
   ],
   "source": [
    "pred = model.predict(x_test)"
   ]
  },
  {
   "cell_type": "code",
   "execution_count": 54,
   "id": "65293849",
   "metadata": {},
   "outputs": [],
   "source": [
    "y_pred_labels = np.argmax(pred, axis=1)\n",
    "y_trues_labels = np.argmax(y_test, axis=1)"
   ]
  },
  {
   "cell_type": "code",
   "execution_count": 50,
   "id": "f8867a47",
   "metadata": {},
   "outputs": [],
   "source": []
  },
  {
   "cell_type": "code",
   "execution_count": 56,
   "id": "53029651",
   "metadata": {},
   "outputs": [
    {
     "name": "stdout",
     "output_type": "stream",
     "text": [
      "Shape of y_test: (84484,)\n",
      "Example of y_test: [1 0 1 1 2 1 3 1 0 3]\n",
      "Shape of y_pred: (84484,)\n",
      "Example of y_pred: [1 2 1 1 1 1 3 1 0 3]\n"
     ]
    }
   ],
   "source": [
    "\n",
    "print(\"Shape of y_test:\", y_trues_labels.shape)\n",
    "print(\"Example of y_test:\", y_trues_labels[:10]) \n",
    "\n",
    "print(\"Shape of y_pred:\", y_pred_labels.shape)\n",
    "print(\"Example of y_pred:\", y_pred_labels[:10])  \n"
   ]
  },
  {
   "cell_type": "code",
   "execution_count": 57,
   "id": "8397513e",
   "metadata": {},
   "outputs": [
    {
     "name": "stdout",
     "output_type": "stream",
     "text": [
      " Accuracy: 0.9180\n",
      " Sensitivity: 0.9096\n",
      " Specificity: 0.7863\n"
     ]
    },
    {
     "data": {
      "image/png": "[encoded data removed]",
      "text/plain": [
       "<Figure size 550x400 with 2 Axes>"
      ]
     },
     "metadata": {},
     "output_type": "display_data"
    }
   ],
   "source": [
    "import numpy as np\n",
    "import matplotlib.pyplot as plt\n",
    "import seaborn as sns\n",
    "from sklearn.metrics import confusion_matrix, roc_curve, auc\n",
    "\n",
    "\n",
    "\n",
    "\n",
    "cm = confusion_matrix(y_trues_labels, y_pred_labels)\n",
    "\n",
    "cm_df = pd.DataFrame(cm,\n",
    "                     index=['B','E','M','T'], \n",
    "                     columns=['B','E','M','T'])\n",
    "\n",
    "\n",
    "overall_accuracy = np.trace(cm) / np.sum(cm)\n",
    "\n",
    "sensitivity = np.diag(cm) / cm.sum(axis=1)\n",
    "\n",
    "specificity = [(np.sum(cm) - cm[i, i]) / (np.sum(cm) - cm[:, i].sum() + cm[i, i]) for i in range(cm.shape[0])]\n",
    "\n",
    "\n",
    "print(f\" Accuracy: {overall_accuracy:.4f}\")\n",
    "print(f\" Sensitivity: {np.mean(sensitivity):.4f}\")\n",
    "print(f\" Specificity: {np.mean(specificity):.4f}\")\n",
    "\n",
    "\n",
    "plt.figure(figsize=(5.5, 4))\n",
    "sns.heatmap(cm_df, annot=True, fmt=\"d\", cmap=\"Blues\")\n",
    "plt.title('Confusion Matrix')\n",
    "plt.ylabel('True label')\n",
    "plt.xlabel('Predicted label')\n",
    "plt.show()\n"
   ]
  },
  {
   "cell_type": "code",
   "execution_count": 63,
   "id": "5f5728da",
   "metadata": {},
   "outputs": [
    {
     "data": {
      "image/png": "[encoded data removed]",
      "text/plain": [
       "<Figure size 1000x600 with 1 Axes>"
      ]
     },
     "metadata": {},
     "output_type": "display_data"
    }
   ],
   "source": [
    "import numpy as np\n",
    "import matplotlib.pyplot as plt\n",
    "from sklearn.metrics import roc_curve, auc\n",
    "from itertools import cycle\n",
    "\n",
    "\n",
    "# Calculate ROC curves \n",
    "n_classes = y_test.shape[1]\n",
    "fpr = dict()\n",
    "tpr = dict()\n",
    "roc_auc = dict()\n",
    "for i in range(n_classes):\n",
    "    fpr[i], tpr[i], _ = roc_curve(y_test[:, i], pred[:, i])\n",
    "    roc_auc[i] = auc(fpr[i], tpr[i])\n",
    "\n",
    "# Plot ROC curves\n",
    "plt.figure(figsize=(10, 6))\n",
    "colors = cycle(['blue', 'red', 'green', 'purple'])\n",
    "class_names = ['B', 'E', 'M', 'T']\n",
    "for i, color in zip(range(n_classes), colors):\n",
    "    plt.plot(fpr[i], tpr[i], color=color, lw=2,\n",
    "             label=f'ROC curve - Class {class_names[i]} (AUC = {roc_auc[i]:.2f})')\n",
    "    \n",
    "plt.plot([0, 1], [0, 1], color='navy', lw=2, linestyle='--')\n",
    "plt.xlim([0.0, 1.0])\n",
    "plt.ylim([0.0, 1.05])\n",
    "plt.xlabel('False Positive Rate')\n",
    "plt.ylabel('True Positive Rate')\n",
    "plt.title('Receiver Operating Characteristic (ROC) Curves')\n",
    "plt.legend(loc=\"lower right\")\n",
    "plt.show()\n"
   ]
  },
  {
   "cell_type": "code",
   "execution_count": 40,
   "id": "ddf073f6",
   "metadata": {},
   "outputs": [
    {
     "name": "stdout",
     "output_type": "stream",
     "text": [
      "625/625 [==============================] - 28s 44ms/step\n"
     ]
    }
   ],
   "source": [
    "\n",
    "hidden_layer_model = keras.Model(inputs=model.input, outputs=model.layers[-2].output)\n",
    "Train_hidden_layer_output = hidden_layer_model.predict(x_train)\n"
   ]
  },
  {
   "cell_type": "code",
   "execution_count": 41,
   "id": "0ee47389",
   "metadata": {},
   "outputs": [
    {
     "name": "stdout",
     "output_type": "stream",
     "text": [
      "157/157 [==============================] - 7s 44ms/step\n"
     ]
    }
   ],
   "source": [
    "Test_hidden_layer_output = hidden_layer_model.predict(x_test)\n"
   ]
  },
  {
   "cell_type": "code",
   "execution_count": 33,
   "id": "06a132ca",
   "metadata": {},
   "outputs": [
    {
     "name": "stdout",
     "output_type": "stream",
     "text": [
      "Model: \"sequential_2\"\n",
      "_________________________________________________________________\n",
      " Layer (type)                Output Shape              Param #   \n",
      "=================================================================\n",
      " conv1d (Conv1D)             (None, 98, 64)            256       \n",
      "                                                                 \n",
      " global_max_pooling1d (Globa  (None, 64)               0         \n",
      " lMaxPooling1D)                                                  \n",
      "                                                                 \n",
      " dense_1 (Dense)             (None, 4)                 260       \n",
      "                                                                 \n",
      "=================================================================\n",
      "Total params: 516\n",
      "Trainable params: 516\n",
      "Non-trainable params: 0\n",
      "_________________________________________________________________\n"
     ]
    }
   ],
   "source": [
    "from tensorflow.keras.layers import Embedding, LSTM, Dense, Dropout, Conv1D, GlobalMaxPooling1D\n",
    "model_cnn = Sequential()\n",
    "model_cnn.add(Conv1D(filters=64, kernel_size=3, activation='relu', input_shape=(Train_hidden_layer_output.shape[1], 1)))\n",
    "model_cnn.add(GlobalMaxPooling1D())\n",
    "model_cnn.add(Dense(4, activation='softmax'))\n",
    "model_cnn.compile(loss=\"categorical_crossentropy\", optimizer='adam', metrics=[\"accuracy\"])\n",
    "model_cnn.summary()"
   ]
  },
  {
   "cell_type": "code",
   "execution_count": 34,
   "id": "5b0c4c10",
   "metadata": {},
   "outputs": [],
   "source": [
    "cnn_input_train = Train_hidden_layer_output.reshape((-1, Train_hidden_layer_output.shape[1], 1))\n",
    "cnn_input_test = Test_hidden_layer_output.reshape((-1, Test_hidden_layer_output.shape[1], 1))\n"
   ]
  },
  {
   "cell_type": "code",
   "execution_count": 36,
   "id": "81194253",
   "metadata": {},
   "outputs": [
    {
     "name": "stdout",
     "output_type": "stream",
     "text": [
      "Epoch 1/50\n",
      "79/79 [==============================] - 1s 14ms/step - loss: 0.3217 - accuracy: 0.8869 - val_loss: 0.6230 - val_accuracy: 0.7684\n",
      "Epoch 2/50\n",
      "79/79 [==============================] - 1s 13ms/step - loss: 0.3025 - accuracy: 0.8952 - val_loss: 0.6235 - val_accuracy: 0.7776\n",
      "Epoch 3/50\n",
      "79/79 [==============================] - 1s 14ms/step - loss: 0.2876 - accuracy: 0.9023 - val_loss: 0.6270 - val_accuracy: 0.7852\n",
      "Epoch 4/50\n",
      "79/79 [==============================] - 1s 13ms/step - loss: 0.2750 - accuracy: 0.9100 - val_loss: 0.6292 - val_accuracy: 0.7808\n",
      "Epoch 5/50\n",
      "79/79 [==============================] - 1s 13ms/step - loss: 0.2650 - accuracy: 0.9119 - val_loss: 0.6341 - val_accuracy: 0.7870\n",
      "Epoch 6/50\n",
      "79/79 [==============================] - 1s 14ms/step - loss: 0.2565 - accuracy: 0.9141 - val_loss: 0.6391 - val_accuracy: 0.7878\n",
      "Epoch 7/50\n",
      "79/79 [==============================] - 1s 15ms/step - loss: 0.2490 - accuracy: 0.9157 - val_loss: 0.6452 - val_accuracy: 0.7896\n",
      "Epoch 8/50\n",
      "79/79 [==============================] - 1s 15ms/step - loss: 0.2430 - accuracy: 0.9184 - val_loss: 0.6524 - val_accuracy: 0.7932\n",
      "Epoch 9/50\n",
      "79/79 [==============================] - 1s 12ms/step - loss: 0.2383 - accuracy: 0.9186 - val_loss: 0.6543 - val_accuracy: 0.7918\n",
      "Epoch 10/50\n",
      "79/79 [==============================] - 1s 13ms/step - loss: 0.2332 - accuracy: 0.9197 - val_loss: 0.6580 - val_accuracy: 0.7912\n",
      "Epoch 11/50\n",
      "79/79 [==============================] - 1s 14ms/step - loss: 0.2286 - accuracy: 0.9214 - val_loss: 0.6654 - val_accuracy: 0.7952\n",
      "Epoch 12/50\n",
      "79/79 [==============================] - 1s 13ms/step - loss: 0.2253 - accuracy: 0.9210 - val_loss: 0.6670 - val_accuracy: 0.7940\n",
      "Epoch 13/50\n",
      "79/79 [==============================] - 1s 15ms/step - loss: 0.2216 - accuracy: 0.9223 - val_loss: 0.6730 - val_accuracy: 0.7948\n",
      "Epoch 14/50\n",
      "79/79 [==============================] - 1s 15ms/step - loss: 0.2183 - accuracy: 0.9234 - val_loss: 0.6745 - val_accuracy: 0.7968\n",
      "Epoch 15/50\n",
      "79/79 [==============================] - 1s 14ms/step - loss: 0.2152 - accuracy: 0.9241 - val_loss: 0.6770 - val_accuracy: 0.7972\n",
      "Epoch 16/50\n",
      "79/79 [==============================] - 1s 14ms/step - loss: 0.2123 - accuracy: 0.9247 - val_loss: 0.6818 - val_accuracy: 0.7982\n",
      "Epoch 17/50\n",
      "79/79 [==============================] - 1s 15ms/step - loss: 0.2099 - accuracy: 0.9255 - val_loss: 0.6829 - val_accuracy: 0.7976\n",
      "Epoch 18/50\n",
      "79/79 [==============================] - 1s 14ms/step - loss: 0.2074 - accuracy: 0.9276 - val_loss: 0.6875 - val_accuracy: 0.7990\n",
      "Epoch 19/50\n",
      "79/79 [==============================] - 1s 13ms/step - loss: 0.2056 - accuracy: 0.9270 - val_loss: 0.6901 - val_accuracy: 0.7992\n",
      "Epoch 20/50\n",
      "79/79 [==============================] - 1s 14ms/step - loss: 0.2036 - accuracy: 0.9287 - val_loss: 0.6906 - val_accuracy: 0.8016\n",
      "Epoch 21/50\n",
      "79/79 [==============================] - 1s 14ms/step - loss: 0.2017 - accuracy: 0.9295 - val_loss: 0.6915 - val_accuracy: 0.8006\n",
      "Epoch 22/50\n",
      "79/79 [==============================] - 1s 12ms/step - loss: 0.2002 - accuracy: 0.9293 - val_loss: 0.6924 - val_accuracy: 0.8006\n",
      "Epoch 23/50\n",
      "79/79 [==============================] - 1s 12ms/step - loss: 0.1973 - accuracy: 0.9312 - val_loss: 0.6941 - val_accuracy: 0.8032\n",
      "Epoch 24/50\n",
      "79/79 [==============================] - 1s 12ms/step - loss: 0.1956 - accuracy: 0.9326 - val_loss: 0.6978 - val_accuracy: 0.8018\n",
      "Epoch 25/50\n",
      "79/79 [==============================] - 1s 12ms/step - loss: 0.1945 - accuracy: 0.9331 - val_loss: 0.6983 - val_accuracy: 0.8016\n",
      "Epoch 26/50\n",
      "79/79 [==============================] - 1s 13ms/step - loss: 0.1924 - accuracy: 0.9337 - val_loss: 0.7000 - val_accuracy: 0.8004\n",
      "Epoch 27/50\n",
      "79/79 [==============================] - 1s 14ms/step - loss: 0.1925 - accuracy: 0.9337 - val_loss: 0.7019 - val_accuracy: 0.8030\n",
      "Epoch 28/50\n",
      "79/79 [==============================] - 1s 14ms/step - loss: 0.1897 - accuracy: 0.9351 - val_loss: 0.7024 - val_accuracy: 0.8040\n",
      "Epoch 29/50\n",
      "79/79 [==============================] - 1s 13ms/step - loss: 0.1883 - accuracy: 0.9352 - val_loss: 0.7040 - val_accuracy: 0.8034\n",
      "Epoch 30/50\n",
      "79/79 [==============================] - 1s 13ms/step - loss: 0.1875 - accuracy: 0.9363 - val_loss: 0.7052 - val_accuracy: 0.8050\n",
      "Epoch 31/50\n",
      "79/79 [==============================] - 1s 12ms/step - loss: 0.1865 - accuracy: 0.9363 - val_loss: 0.7073 - val_accuracy: 0.8044\n",
      "Epoch 32/50\n",
      "79/79 [==============================] - 1s 14ms/step - loss: 0.1849 - accuracy: 0.9366 - val_loss: 0.7071 - val_accuracy: 0.8046\n",
      "Epoch 33/50\n",
      "79/79 [==============================] - 1s 14ms/step - loss: 0.1836 - accuracy: 0.9373 - val_loss: 0.7095 - val_accuracy: 0.8052\n",
      "Epoch 34/50\n",
      "79/79 [==============================] - 1s 13ms/step - loss: 0.1826 - accuracy: 0.9386 - val_loss: 0.7110 - val_accuracy: 0.8040\n",
      "Epoch 35/50\n",
      "79/79 [==============================] - 1s 13ms/step - loss: 0.1811 - accuracy: 0.9387 - val_loss: 0.7116 - val_accuracy: 0.8034\n",
      "Epoch 36/50\n",
      "79/79 [==============================] - 1s 15ms/step - loss: 0.1806 - accuracy: 0.9392 - val_loss: 0.7126 - val_accuracy: 0.8042\n",
      "Epoch 37/50\n",
      "79/79 [==============================] - 1s 12ms/step - loss: 0.1794 - accuracy: 0.9395 - val_loss: 0.7138 - val_accuracy: 0.8062\n",
      "Epoch 38/50\n",
      "79/79 [==============================] - 1s 12ms/step - loss: 0.1781 - accuracy: 0.9406 - val_loss: 0.7131 - val_accuracy: 0.8048\n",
      "Epoch 39/50\n",
      "79/79 [==============================] - 1s 12ms/step - loss: 0.1773 - accuracy: 0.9398 - val_loss: 0.7137 - val_accuracy: 0.8044\n",
      "Epoch 40/50\n",
      "79/79 [==============================] - 1s 13ms/step - loss: 0.1761 - accuracy: 0.9406 - val_loss: 0.7139 - val_accuracy: 0.8060\n",
      "Epoch 41/50\n",
      "79/79 [==============================] - 1s 13ms/step - loss: 0.1748 - accuracy: 0.9409 - val_loss: 0.7147 - val_accuracy: 0.8062\n",
      "Epoch 42/50\n",
      "79/79 [==============================] - 1s 14ms/step - loss: 0.1740 - accuracy: 0.9420 - val_loss: 0.7158 - val_accuracy: 0.8072\n",
      "Epoch 43/50\n",
      "79/79 [==============================] - 1s 11ms/step - loss: 0.1739 - accuracy: 0.9415 - val_loss: 0.7167 - val_accuracy: 0.8048\n",
      "Epoch 44/50\n",
      "79/79 [==============================] - 1s 11ms/step - loss: 0.1727 - accuracy: 0.9427 - val_loss: 0.7175 - val_accuracy: 0.8062\n",
      "Epoch 45/50\n",
      "79/79 [==============================] - 1s 12ms/step - loss: 0.1719 - accuracy: 0.9420 - val_loss: 0.7179 - val_accuracy: 0.8092\n",
      "Epoch 46/50\n",
      "79/79 [==============================] - 1s 11ms/step - loss: 0.1713 - accuracy: 0.9420 - val_loss: 0.7197 - val_accuracy: 0.8068\n",
      "Epoch 47/50\n",
      "79/79 [==============================] - 1s 13ms/step - loss: 0.1699 - accuracy: 0.9430 - val_loss: 0.7214 - val_accuracy: 0.8070\n",
      "Epoch 48/50\n",
      "79/79 [==============================] - 1s 12ms/step - loss: 0.1695 - accuracy: 0.9432 - val_loss: 0.7216 - val_accuracy: 0.8068\n",
      "Epoch 49/50\n",
      "79/79 [==============================] - 1s 13ms/step - loss: 0.1691 - accuracy: 0.9433 - val_loss: 0.7206 - val_accuracy: 0.8084\n",
      "Epoch 50/50\n",
      "79/79 [==============================] - 1s 12ms/step - loss: 0.1676 - accuracy: 0.9431 - val_loss: 0.7241 - val_accuracy: 0.8072\n"
     ]
    }
   ],
   "source": [
    "history_cnn = model_cnn.fit(cnn_input_train, y_train, validation_data=(cnn_input_test, y_test), epochs=50, batch_size=256)\n"
   ]
  },
  {
   "cell_type": "code",
   "execution_count": 48,
   "id": "c3d702bc",
   "metadata": {},
   "outputs": [
    {
     "name": "stdout",
     "output_type": "stream",
     "text": [
      "625/625 [==============================] - 1s 1ms/step\n",
      "157/157 [==============================] - 0s 1ms/step\n"
     ]
    }
   ],
   "source": [
    "cnn_hidden_layer_model = keras.Model(inputs=model_cnn.input, outputs=model_cnn.layers[-2].output)\n",
    "cnn_hidden_layer_output_train = cnn_hidden_layer_model.predict(cnn_input_train)\n",
    "cnn_hidden_layer_output_test = cnn_hidden_layer_model.predict(cnn_input_test)\n"
   ]
  },
  {
   "cell_type": "code",
   "execution_count": 49,
   "id": "aa789cea",
   "metadata": {},
   "outputs": [],
   "source": [
    "flattened_cnn_hidden_train = cnn_hidden_layer_output_train.reshape((len(x_train), -1))\n",
    "flattened_cnn_hidden_test = cnn_hidden_layer_output_test.reshape((len(x_test), -1))\n"
   ]
  },
  {
   "cell_type": "code",
   "execution_count": 50,
   "id": "8873b10c",
   "metadata": {},
   "outputs": [
    {
     "data": {
      "text/html": [
       "<style>#sk-container-id-3 {color: black;background-color: white;}#sk-container-id-3 pre{padding: 0;}#sk-container-id-3 div.sk-toggleable {background-color: white;}#sk-container-id-3 label.sk-toggleable__label {cursor: pointer;display: block;width: 100%;margin-bottom: 0;padding: 0.3em;box-sizing: border-box;text-align: center;}#sk-container-id-3 label.sk-toggleable__label-arrow:before {content: \"▸\";float: left;margin-right: 0.25em;color: #696969;}#sk-container-id-3 label.sk-toggleable__label-arrow:hover:before {color: black;}#sk-container-id-3 div.sk-estimator:hover label.sk-toggleable__label-arrow:before {color: black;}#sk-container-id-3 div.sk-toggleable__content {max-height: 0;max-width: 0;overflow: hidden;text-align: left;background-color: #f0f8ff;}#sk-container-id-3 div.sk-toggleable__content pre {margin: 0.2em;color: black;border-radius: 0.25em;background-color: #f0f8ff;}#sk-container-id-3 input.sk-toggleable__control:checked~div.sk-toggleable__content {max-height: 200px;max-width: 100%;overflow: auto;}#sk-container-id-3 input.sk-toggleable__control:checked~label.sk-toggleable__label-arrow:before {content: \"▾\";}#sk-container-id-3 div.sk-estimator input.sk-toggleable__control:checked~label.sk-toggleable__label {background-color: #d4ebff;}#sk-container-id-3 div.sk-label input.sk-toggleable__control:checked~label.sk-toggleable__label {background-color: #d4ebff;}#sk-container-id-3 input.sk-hidden--visually {border: 0;clip: rect(1px 1px 1px 1px);clip: rect(1px, 1px, 1px, 1px);height: 1px;margin: -1px;overflow: hidden;padding: 0;position: absolute;width: 1px;}#sk-container-id-3 div.sk-estimator {font-family: monospace;background-color: #f0f8ff;border: 1px dotted black;border-radius: 0.25em;box-sizing: border-box;margin-bottom: 0.5em;}#sk-container-id-3 div.sk-estimator:hover {background-color: #d4ebff;}#sk-container-id-3 div.sk-parallel-item::after {content: \"\";width: 100%;border-bottom: 1px solid gray;flex-grow: 1;}#sk-container-id-3 div.sk-label:hover label.sk-toggleable__label {background-color: #d4ebff;}#sk-container-id-3 div.sk-serial::before {content: \"\";position: absolute;border-left: 1px solid gray;box-sizing: border-box;top: 0;bottom: 0;left: 50%;z-index: 0;}#sk-container-id-3 div.sk-serial {display: flex;flex-direction: column;align-items: center;background-color: white;padding-right: 0.2em;padding-left: 0.2em;position: relative;}#sk-container-id-3 div.sk-item {position: relative;z-index: 1;}#sk-container-id-3 div.sk-parallel {display: flex;align-items: stretch;justify-content: center;background-color: white;position: relative;}#sk-container-id-3 div.sk-item::before, #sk-container-id-3 div.sk-parallel-item::before {content: \"\";position: absolute;border-left: 1px solid gray;box-sizing: border-box;top: 0;bottom: 0;left: 50%;z-index: -1;}#sk-container-id-3 div.sk-parallel-item {display: flex;flex-direction: column;z-index: 1;position: relative;background-color: white;}#sk-container-id-3 div.sk-parallel-item:first-child::after {align-self: flex-end;width: 50%;}#sk-container-id-3 div.sk-parallel-item:last-child::after {align-self: flex-start;width: 50%;}#sk-container-id-3 div.sk-parallel-item:only-child::after {width: 0;}#sk-container-id-3 div.sk-dashed-wrapped {border: 1px dashed gray;margin: 0 0.4em 0.5em 0.4em;box-sizing: border-box;padding-bottom: 0.4em;background-color: white;}#sk-container-id-3 div.sk-label label {font-family: monospace;font-weight: bold;display: inline-block;line-height: 1.2em;}#sk-container-id-3 div.sk-label-container {text-align: center;}#sk-container-id-3 div.sk-container {/* jupyter's `normalize.less` sets `[hidden] { display: none; }` but bootstrap.min.css set `[hidden] { display: none !important; }` so we also need the `!important` here to be able to override the default hidden behavior on the sphinx rendered scikit-learn.org. See: https://github.com/scikit-learn/scikit-learn/issues/21755 */display: inline-block !important;position: relative;}#sk-container-id-3 div.sk-text-repr-fallback {display: none;}</style><div id=\"sk-container-id-3\" class=\"sk-top-container\"><div class=\"sk-text-repr-fallback\"><pre>SVC(kernel=&#x27;linear&#x27;)</pre><b>In a Jupyter environment, please rerun this cell to show the HTML representation or trust the notebook. <br />On GitHub, the HTML representation is unable to render, please try loading this page with nbviewer.org.</b></div><div class=\"sk-container\" hidden><div class=\"sk-item\"><div class=\"sk-estimator sk-toggleable\"><input class=\"sk-toggleable__control sk-hidden--visually\" id=\"sk-estimator-id-3\" type=\"checkbox\" checked><label for=\"sk-estimator-id-3\" class=\"sk-toggleable__label sk-toggleable__label-arrow\">SVC</label><div class=\"sk-toggleable__content\"><pre>SVC(kernel=&#x27;linear&#x27;)</pre></div></div></div></div></div>"
      ],
      "text/plain": [
       "SVC(kernel='linear')"
      ]
     },
     "execution_count": 50,
     "metadata": {},
     "output_type": "execute_result"
    }
   ],
   "source": [
    "from sklearn.svm import SVC\n",
    "svm_classifier = SVC(kernel='linear')  # You can experiment with different SVM kernels\n",
    "svm_classifier.fit(flattened_cnn_hidden_train, np.argmax(y_train, axis=1))\n"
   ]
  },
  {
   "cell_type": "code",
   "execution_count": 51,
   "id": "ff3cc224",
   "metadata": {},
   "outputs": [
    {
     "name": "stdout",
     "output_type": "stream",
     "text": [
      "SVM Classifier Accuracy: 0.8224\n"
     ]
    }
   ],
   "source": [
    "svm_score = svm_classifier.score(flattened_cnn_hidden_test, np.argmax(y_test, axis=1))\n",
    "print(f\"SVM Classifier Accuracy: {svm_score}\")\n"
   ]
  },
  {
   "cell_type": "code",
   "execution_count": 39,
   "id": "930e682f",
   "metadata": {},
   "outputs": [
    {
     "name": "stdout",
     "output_type": "stream",
     "text": [
      "SVM Classifier Accuracy: 0.8348\n"
     ]
    }
   ],
   "source": [
    "svm_score = svm_classifier.score(cnn_input_test.reshape((len(x_test), -1)), np.argmax(y_test, axis=1))\n",
    "print(f\"SVM Classifier Accuracy: {svm_score}\")"
   ]
  },
  {
   "cell_type": "code",
   "execution_count": 35,
   "id": "f65f068e",
   "metadata": {},
   "outputs": [],
   "source": [
    "y_train_label=np.argmax(y_train, axis=1)"
   ]
  },
  {
   "cell_type": "code",
   "execution_count": 36,
   "id": "68f27b2c",
   "metadata": {},
   "outputs": [
    {
     "data": {
      "text/html": [
       "<style>#sk-container-id-2 {color: black;background-color: white;}#sk-container-id-2 pre{padding: 0;}#sk-container-id-2 div.sk-toggleable {background-color: white;}#sk-container-id-2 label.sk-toggleable__label {cursor: pointer;display: block;width: 100%;margin-bottom: 0;padding: 0.3em;box-sizing: border-box;text-align: center;}#sk-container-id-2 label.sk-toggleable__label-arrow:before {content: \"▸\";float: left;margin-right: 0.25em;color: #696969;}#sk-container-id-2 label.sk-toggleable__label-arrow:hover:before {color: black;}#sk-container-id-2 div.sk-estimator:hover label.sk-toggleable__label-arrow:before {color: black;}#sk-container-id-2 div.sk-toggleable__content {max-height: 0;max-width: 0;overflow: hidden;text-align: left;background-color: #f0f8ff;}#sk-container-id-2 div.sk-toggleable__content pre {margin: 0.2em;color: black;border-radius: 0.25em;background-color: #f0f8ff;}#sk-container-id-2 input.sk-toggleable__control:checked~div.sk-toggleable__content {max-height: 200px;max-width: 100%;overflow: auto;}#sk-container-id-2 input.sk-toggleable__control:checked~label.sk-toggleable__label-arrow:before {content: \"▾\";}#sk-container-id-2 div.sk-estimator input.sk-toggleable__control:checked~label.sk-toggleable__label {background-color: #d4ebff;}#sk-container-id-2 div.sk-label input.sk-toggleable__control:checked~label.sk-toggleable__label {background-color: #d4ebff;}#sk-container-id-2 input.sk-hidden--visually {border: 0;clip: rect(1px 1px 1px 1px);clip: rect(1px, 1px, 1px, 1px);height: 1px;margin: -1px;overflow: hidden;padding: 0;position: absolute;width: 1px;}#sk-container-id-2 div.sk-estimator {font-family: monospace;background-color: #f0f8ff;border: 1px dotted black;border-radius: 0.25em;box-sizing: border-box;margin-bottom: 0.5em;}#sk-container-id-2 div.sk-estimator:hover {background-color: #d4ebff;}#sk-container-id-2 div.sk-parallel-item::after {content: \"\";width: 100%;border-bottom: 1px solid gray;flex-grow: 1;}#sk-container-id-2 div.sk-label:hover label.sk-toggleable__label {background-color: #d4ebff;}#sk-container-id-2 div.sk-serial::before {content: \"\";position: absolute;border-left: 1px solid gray;box-sizing: border-box;top: 0;bottom: 0;left: 50%;z-index: 0;}#sk-container-id-2 div.sk-serial {display: flex;flex-direction: column;align-items: center;background-color: white;padding-right: 0.2em;padding-left: 0.2em;position: relative;}#sk-container-id-2 div.sk-item {position: relative;z-index: 1;}#sk-container-id-2 div.sk-parallel {display: flex;align-items: stretch;justify-content: center;background-color: white;position: relative;}#sk-container-id-2 div.sk-item::before, #sk-container-id-2 div.sk-parallel-item::before {content: \"\";position: absolute;border-left: 1px solid gray;box-sizing: border-box;top: 0;bottom: 0;left: 50%;z-index: -1;}#sk-container-id-2 div.sk-parallel-item {display: flex;flex-direction: column;z-index: 1;position: relative;background-color: white;}#sk-container-id-2 div.sk-parallel-item:first-child::after {align-self: flex-end;width: 50%;}#sk-container-id-2 div.sk-parallel-item:last-child::after {align-self: flex-start;width: 50%;}#sk-container-id-2 div.sk-parallel-item:only-child::after {width: 0;}#sk-container-id-2 div.sk-dashed-wrapped {border: 1px dashed gray;margin: 0 0.4em 0.5em 0.4em;box-sizing: border-box;padding-bottom: 0.4em;background-color: white;}#sk-container-id-2 div.sk-label label {font-family: monospace;font-weight: bold;display: inline-block;line-height: 1.2em;}#sk-container-id-2 div.sk-label-container {text-align: center;}#sk-container-id-2 div.sk-container {/* jupyter's `normalize.less` sets `[hidden] { display: none; }` but bootstrap.min.css set `[hidden] { display: none !important; }` so we also need the `!important` here to be able to override the default hidden behavior on the sphinx rendered scikit-learn.org. See: https://github.com/scikit-learn/scikit-learn/issues/21755 */display: inline-block !important;position: relative;}#sk-container-id-2 div.sk-text-repr-fallback {display: none;}</style><div id=\"sk-container-id-2\" class=\"sk-top-container\"><div class=\"sk-text-repr-fallback\"><pre>SVC(kernel=&#x27;linear&#x27;)</pre><b>In a Jupyter environment, please rerun this cell to show the HTML representation or trust the notebook. <br />On GitHub, the HTML representation is unable to render, please try loading this page with nbviewer.org.</b></div><div class=\"sk-container\" hidden><div class=\"sk-item\"><div class=\"sk-estimator sk-toggleable\"><input class=\"sk-toggleable__control sk-hidden--visually\" id=\"sk-estimator-id-2\" type=\"checkbox\" checked><label for=\"sk-estimator-id-2\" class=\"sk-toggleable__label sk-toggleable__label-arrow\">SVC</label><div class=\"sk-toggleable__content\"><pre>SVC(kernel=&#x27;linear&#x27;)</pre></div></div></div></div></div>"
      ],
      "text/plain": [
       "SVC(kernel='linear')"
      ]
     },
     "execution_count": 36,
     "metadata": {},
     "output_type": "execute_result"
    }
   ],
   "source": [
    "svm_classifier = SVC(kernel='linear', C=1.0)\n",
    "svm_classifier.fit(Train_hidden_layer_output,y_train_label )\n"
   ]
  },
  {
   "cell_type": "code",
   "execution_count": 37,
   "id": "29894845",
   "metadata": {},
   "outputs": [],
   "source": [
    "y_test_label=np.argmax(y_test, axis=1)"
   ]
  },
  {
   "cell_type": "code",
   "execution_count": 38,
   "id": "a99227b3",
   "metadata": {},
   "outputs": [],
   "source": [
    "svm_predictions = svm_classifier.predict(Test_hidden_layer_output)\n"
   ]
  },
  {
   "cell_type": "code",
   "execution_count": 40,
   "id": "7657445a",
   "metadata": {},
   "outputs": [
    {
     "name": "stdout",
     "output_type": "stream",
     "text": [
      "SVM Classifier Accuracy: 0.9130604611524076\n"
     ]
    }
   ],
   "source": [
    "from sklearn.metrics import accuracy_score, confusion_matrix\n",
    "svm_accuracy = accuracy_score(y_test_label, svm_predictions)\n",
    "print(\"SVM Classifier Accuracy:\", svm_accuracy)"
   ]
  },
  {
   "cell_type": "code",
   "execution_count": 41,
   "id": "e99f87ec",
   "metadata": {},
   "outputs": [
    {
     "data": {
      "text/plain": [
       "['lstm_svm.sav']"
      ]
     },
     "execution_count": 41,
     "metadata": {},
     "output_type": "execute_result"
    }
   ],
   "source": [
    "import joblib\n",
    "joblib.dump(svm_classifier, 'lstm_svm.sav')"
   ]
  },
  {
   "cell_type": "code",
   "execution_count": 23,
   "id": "157a2e90",
   "metadata": {},
   "outputs": [],
   "source": [
    "txt = [\"Stocks Rise To Kick Off Big Week of Earnings, Fed Decision\"]"
   ]
  },
  {
   "cell_type": "code",
   "execution_count": 51,
   "id": "020218b2",
   "metadata": {},
   "outputs": [],
   "source": [
    "cleaned = []\n",
    "for i in range(0,len(txt)):\n",
    "    msg = re.sub('[^a-zA-Z]',' ',txt[i])\n",
    "    msg = msg.lower()\n",
    "    msg = msg.split()\n",
    "    ps = PorterStemmer()\n",
    "    msg = [ps.stem(words) for words in msg if not words in set(stopwords.words('english'))]\n",
    "    msg = ' '.join(msg)\n",
    "    cleaned.append(msg)"
   ]
  },
  {
   "cell_type": "code",
   "execution_count": 52,
   "id": "de76f2d0",
   "metadata": {},
   "outputs": [
    {
     "data": {
      "text/plain": [
       "array([[   0,    0,    0,    0,    0,    0,    0,    0,    0,    0,    0,\n",
       "           0,    0,    0,    0,    0,    0,    0,    0,    0,    0,    0,\n",
       "           0,    0,    0,    0,    0,    0,    0,    0,    0,    0,    0,\n",
       "           0,    0,    0,    0,    0,    0,    0,    0,    0,    0,    0,\n",
       "           0,    0,    0,    0,    0,    0,    0,    0,    0,    0,    0,\n",
       "           0,    0,    0,    0,    0,    0,    0,    0,    0,    0,    0,\n",
       "           0,    0,    0,    0,    0,    0,    0,    0,    0,    0,    0,\n",
       "           0,    0,    0,    0,    0,    0,    0,    0,    0,    0,    0,\n",
       "           0,    0,    0,    0,    0,    0,    0,    0,    0,    0,    0,\n",
       "           0,    0,    0,    0,    0,    0,    0,    0,    0,    0,    0,\n",
       "           0,    0,    0,    0,    0,    0,    0,    0,    0,    0,    0,\n",
       "           0,    0,    0,    0,    0,    0,    0,    0,    0,    0,    0,\n",
       "           0,    0,    0,    0,    0,    0,    0,    0,    0,    0, 2843,\n",
       "        1827,  748, 2486,  731, 1146, 3981, 3489]])"
      ]
     },
     "execution_count": 52,
     "metadata": {},
     "output_type": "execute_result"
    }
   ],
   "source": [
    "one_hot_mat = [one_hot(words,dict_size) for words in cleaned]\n",
    "embedded_layer = pad_sequences(one_hot_mat,padding = 'pre',maxlen = 150)\n",
    "embedded_layer"
   ]
  },
  {
   "cell_type": "code",
   "execution_count": 53,
   "id": "c5488a0a",
   "metadata": {},
   "outputs": [
    {
     "name": "stdout",
     "output_type": "stream",
     "text": [
      "1/1 [==============================] - 0s 37ms/step\n",
      "[[0.9922659  0.00108239 0.00457906 0.00207271]] Business\n"
     ]
    }
   ],
   "source": [
    "pred = model.predict(embedded_layer)\n",
    "cat = ['Business','Entertainment','Health','Technology']\n",
    "print(pred, cat[np.argmax(pred)])"
   ]
  },
  {
   "cell_type": "code",
   "execution_count": null,
   "id": "cb114faa",
   "metadata": {},
   "outputs": [],
   "source": [
    "new_model"
   ]
  }
 ],
 "metadata": {
  "kernelspec": {
   "display_name": "Python 3 (ipykernel)",
   "language": "python",
   "name": "python3"
  },
  "language_info": {
   "codemirror_mode": {
    "name": "ipython",
    "version": 3
   },
   "file_extension": ".py",
   "mimetype": "text/x-python",
   "name": "python",
   "nbconvert_exporter": "python",
   "pygments_lexer": "ipython3",
   "version": "3.11.3"
  }
 },
 "nbformat": 4,
 "nbformat_minor": 5
}
